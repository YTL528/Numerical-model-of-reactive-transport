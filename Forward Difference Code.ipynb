{
 "cells": [
  {
   "cell_type": "code",
   "execution_count": 9,
   "id": "c4672c8b",
   "metadata": {},
   "outputs": [
    {
     "name": "stdout",
     "output_type": "stream",
     "text": [
      "[100.          99.99926464  99.99809267  99.99631278  99.99370279\n",
      "  99.98997851  99.98478087  99.97766164  99.9680675   99.95532274\n",
      "  99.93861074  99.91695448  99.88919638  99.85397806  99.80972035\n",
      "  99.75460435  99.68655415  99.60322187  99.50197607  99.37989403\n",
      "  99.233759    99.06006298  98.8550159   98.61456171  98.33440189\n",
      "  98.01002673  97.63675437  97.20977752  96.72421739  96.17518371\n",
      "  95.55783936  94.8674666   94.09952975  93.24972474  92.31399695\n",
      "  91.28849125  90.16936202  88.95230027  87.63149278  86.19744929\n",
      "  84.63258519  82.90237699  80.93783152  78.60099904  75.61755191\n",
      "  71.44569608  65.02255298  54.27570998  35.18643945   0.\n",
      "   0.        ]\n"
     ]
    }
   ],
   "source": [
    "import numpy as np\n",
    "import matplotlib.pyplot as plt\n",
    "\n",
    "#set parameters\n",
    "DT = 0.05\n",
    "DX = 1\n",
    "por = 0.3\n",
    "Cf = 100.0\n",
    "Cb = 0.0\n",
    "Ci = 0.0\n",
    "DH = 2.5\n",
    "q = 1.5\n",
    "\n",
    "L = 50\n",
    "Tmax = 5\n",
    "N = int(L / DX) + 1\n",
    "\n",
    "node_locations = np.arange(0, L + DX, DX)\n",
    "number_timesteps = int(Tmax / DT)\n",
    "time_increments = np.arange(DT, Tmax + DT, DT)\n",
    "Cold = np.zeros(N) * Ci\n",
    "Cnew = np.zeros(N)\n",
    "Cold[0] = Cf\n",
    "Cnew = Cold\n",
    "\n",
    "#set coefficients in in FD equations\n",
    "p = (DH * DT) / (por * DX**2)\n",
    "r = (q * DT) / (2 * por * DX)\n",
    "\n",
    "a = p - r\n",
    "b = 1.0 - 2 * p\n",
    "c = p + r\n",
    "\n",
    "for i in time_increments:\n",
    "    Cnew[0] = Cf\n",
    "    Cnew[50] = Cb\n",
    "       \n",
    "    for k in np.arange(1,N-2,DX):\n",
    "        Cnew[k] = a * Cold[k + 1] + b * Cold[k] + c * Cold[k - 1]\n",
    "\n",
    "print(Cnew)"
   ]
  },
  {
   "cell_type": "code",
   "execution_count": null,
   "id": "c2e37ef9",
   "metadata": {},
   "outputs": [],
   "source": []
  }
 ],
 "metadata": {
  "kernelspec": {
   "display_name": "Python 3 (ipykernel)",
   "language": "python",
   "name": "python3"
  },
  "language_info": {
   "codemirror_mode": {
    "name": "ipython",
    "version": 3
   },
   "file_extension": ".py",
   "mimetype": "text/x-python",
   "name": "python",
   "nbconvert_exporter": "python",
   "pygments_lexer": "ipython3",
   "version": "3.9.7"
  }
 },
 "nbformat": 4,
 "nbformat_minor": 5
}
