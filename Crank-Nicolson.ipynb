{
 "cells": [
  {
   "cell_type": "code",
   "execution_count": 17,
   "id": "d8dadb44",
   "metadata": {},
   "outputs": [
    {
     "name": "stdout",
     "output_type": "stream",
     "text": [
      "[100.          99.99999936  99.99999828  99.99999651  99.99999373\n",
      "  99.99998948  99.99998313  99.99997379  99.99996024  99.99994085\n",
      "  99.99991338  99.99987486  99.99982135  99.9997476   99.99964677\n",
      "  99.99950991  99.9993254   99.99907828  99.99874937  99.99831421\n",
      "  99.99774179  99.99699299  99.9960187   99.99475756  99.9931332\n",
      "  99.99105091  99.98839349  99.98501597  99.98073873  99.97533794\n",
      "  99.96853153  99.95995752  99.94913846  99.93542052  99.91786597\n",
      "  99.89505922  99.86475188  99.82320824  99.76399239  99.6757146\n",
      "  99.53783863  99.31287696  98.9318595   98.26728091  97.08274543\n",
      "  94.93925904  91.02088659  83.81046337  70.48652935  45.80205169\n",
      "   0.        ]\n"
     ]
    }
   ],
   "source": [
    "import numpy as np\n",
    "import matplotlib.pyplot as plt\n",
    "\n",
    "#set parameters\n",
    "DT = 0.05\n",
    "DX = 1\n",
    "por = 0.3\n",
    "Cf = 100.0\n",
    "Cb = 0.0\n",
    "Ci = 0.0\n",
    "DH = 2.5\n",
    "q = 1.5\n",
    "\n",
    "L = 50\n",
    "Tmax = 5\n",
    "N = int(L / DX) + 1\n",
    "\n",
    "node_locations = np.arange(0, L + DX, DX)\n",
    "number_timesteps = int(Tmax / DT)\n",
    "time_increments = np.arange(DT, Tmax + DT, DT)\n",
    "Cold = np.zeros(N) * Ci\n",
    "Cnew = np.zeros(N)\n",
    "Cold[0] = Cf\n",
    "Cnew = Cold\n",
    "\n",
    "#set coefficients in in FD equations\n",
    "p = (DH * DT) / (por * DX**2)\n",
    "r = (q * DT) / (2 * por * DX)\n",
    "\n",
    "a = p - r\n",
    "b = 2 * por + 2 * p\n",
    "c = p + r\n",
    "\n",
    "\n",
    "for i in time_increments:\n",
    "    Cnew[0] = Cf  # Boundary condition on the left\n",
    "    Cnew[50] = Cb  # Boundary condition on the right\n",
    "    \n",
    "    D = np.zeros(N + 1)\n",
    "    E = np.zeros(N + 1)\n",
    "    F = np.zeros(N + 1)\n",
    "\n",
    "    for k in range(1, N-1):\n",
    "        if k == 1:\n",
    "            D[k] = a * Cold[k+1] + (4 * por - b) * Cold[k] + c * Cold[k-1]\n",
    "            E[k] = a / b\n",
    "            F[k] = (D[k] + c * Cnew[k - 1]) / b\n",
    "        else:\n",
    "            D[k] = a * Cold[k+1] + (4 * por - b) * Cold[k] + c * Cold[k-1]\n",
    "            E[k] = a / (b - c * E[k-1])\n",
    "            F[k]= (D[k] + c * F[k-1]) / (b - c * E[k-1])\n",
    "    \n",
    "    for k in range(N - 2, 0, -1):\n",
    "        Cnew[k] = F[k] + E[k] * Cnew[k+1]\n",
    "\n",
    "print(Cnew)"
   ]
  },
  {
   "cell_type": "code",
   "execution_count": null,
   "id": "77a82390",
   "metadata": {},
   "outputs": [],
   "source": []
  }
 ],
 "metadata": {
  "kernelspec": {
   "display_name": "Python 3 (ipykernel)",
   "language": "python",
   "name": "python3"
  },
  "language_info": {
   "codemirror_mode": {
    "name": "ipython",
    "version": 3
   },
   "file_extension": ".py",
   "mimetype": "text/x-python",
   "name": "python",
   "nbconvert_exporter": "python",
   "pygments_lexer": "ipython3",
   "version": "3.9.7"
  }
 },
 "nbformat": 4,
 "nbformat_minor": 5
}
