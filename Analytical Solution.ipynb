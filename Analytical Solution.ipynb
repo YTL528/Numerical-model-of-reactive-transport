{
 "cells": [
  {
   "cell_type": "code",
   "execution_count": 14,
   "id": "f6f7545f",
   "metadata": {},
   "outputs": [
    {
     "name": "stdout",
     "output_type": "stream",
     "text": [
      "[1.0000000e+02 1.5059537e-02 1.5059537e-02 1.5059537e-02 1.5059537e-02\n",
      " 1.5059537e-02 1.5059537e-02 1.5059537e-02 1.5059537e-02 1.5059537e-02\n",
      " 1.5059537e-02 1.5059537e-02 1.5059537e-02 1.5059537e-02 1.5059537e-02\n",
      " 1.5059537e-02 1.5059537e-02 1.5059537e-02 1.5059537e-02 1.5059537e-02\n",
      " 1.5059537e-02 1.5059537e-02 1.5059537e-02 1.5059537e-02 1.5059537e-02\n",
      " 1.5059537e-02 1.5059537e-02 1.5059537e-02 1.5059537e-02 1.5059537e-02\n",
      " 1.5059537e-02 1.5059537e-02 1.5059537e-02 1.5059537e-02 1.5059537e-02\n",
      " 1.5059537e-02 1.5059537e-02 1.5059537e-02 1.5059537e-02 1.5059537e-02\n",
      " 1.5059537e-02 1.5059537e-02 1.5059537e-02 1.5059537e-02 1.5059537e-02\n",
      " 1.5059537e-02 1.5059537e-02 1.5059537e-02 1.5059537e-02 0.0000000e+00\n",
      " 0.0000000e+00]\n"
     ]
    }
   ],
   "source": [
    "import numpy as np\n",
    "import matplotlib.pyplot as plt\n",
    "import math\n",
    "\n",
    "DT = 0.05\n",
    "DX = 1\n",
    "DH = 2.5\n",
    "q = 1.5\n",
    "por = 0.3\n",
    "v= q / por\n",
    "D= DH / por\n",
    "\n",
    "L = x = 50 \n",
    "Tmax = 5\n",
    "N = int(L / DX) + 1\n",
    "\n",
    "Cf = 100.0\n",
    "Cb = 0.0\n",
    "Ci = 0.0\n",
    "\n",
    "\n",
    "node_locations = np.arange(0, L + DX, DX)\n",
    "number_timesteps = int(Tmax / DT)\n",
    "time_increments = np.arange(DT, Tmax + DT, DT)\n",
    "\n",
    "Cold_analytic = np.zeros(N) * Ci\n",
    "Cnew_analytic = np.zeros(N)\n",
    "Cold_analytic[0] = Cf\n",
    "Cnew_analytic = Cold_analytic\n",
    "\n",
    "for i in time_increments:\n",
    "    Cnew_analytic[0] = Cf\n",
    "    Cnew_analytic[50] = Cb\n",
    "    \n",
    "    for k in np.arange(1,N-2,DX):\n",
    "        Cnew_analytic[k]=(Cold_analytic[k]/2)*((math.erfc((x-v*i)/(2*math.sqrt(D*i))))+(math.exp((v*x)/D)*math.erfc((x+v*i)/(2*math.sqrt(D*i)))))\n",
    "                        \n",
    "print(Cnew_analytic)"
   ]
  },
  {
   "cell_type": "code",
   "execution_count": null,
   "id": "06ba7c3c",
   "metadata": {},
   "outputs": [],
   "source": []
  }
 ],
 "metadata": {
  "kernelspec": {
   "display_name": "Python 3 (ipykernel)",
   "language": "python",
   "name": "python3"
  },
  "language_info": {
   "codemirror_mode": {
    "name": "ipython",
    "version": 3
   },
   "file_extension": ".py",
   "mimetype": "text/x-python",
   "name": "python",
   "nbconvert_exporter": "python",
   "pygments_lexer": "ipython3",
   "version": "3.9.7"
  }
 },
 "nbformat": 4,
 "nbformat_minor": 5
}
